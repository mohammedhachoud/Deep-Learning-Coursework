{
  "cells": [
    {
      "cell_type": "code",
      "execution_count": 1,
      "metadata": {
        "id": "T8TpdwejlhXK"
      },
      "outputs": [],
      "source": [
        "import numpy as np\n",
        "import pandas as pd\n",
        "import matplotlib.pyplot as plt"
      ]
    },
    {
      "cell_type": "markdown",
      "metadata": {
        "id": "E0miIN1RlhXM"
      },
      "source": [
        "# 1- Init_params(nx, nh, ny)\n"
      ]
    },
    {
      "cell_type": "code",
      "execution_count": 2,
      "metadata": {
        "id": "LffsihUOlhXP"
      },
      "outputs": [],
      "source": [
        "def init_params(nx,nh,ny):\n",
        "\n",
        "    # Input - Hidden layer\n",
        "    W1 = np.random.normal(0,0.3,size=(nh,nx+1))\n",
        "\n",
        "    # Hidden - Output layer\n",
        "    W2 = np.random.normal(0,0.3,size=(ny,nh+1))\n",
        "\n",
        "    parameters = {\n",
        "                  \"W1\": W1,\n",
        "                  \"W2\": W2,\n",
        "                  }\n",
        "\n",
        "    return parameters"
      ]
    },
    {
      "cell_type": "markdown",
      "metadata": {
        "id": "mIRYXUMvlhXP"
      },
      "source": [
        "# 2- forward (params, X)"
      ]
    },
    {
      "cell_type": "markdown",
      "metadata": {
        "id": "pZjyspy7lhXQ"
      },
      "source": [
        "### Helper functions"
      ]
    },
    {
      "cell_type": "code",
      "execution_count": 3,
      "metadata": {
        "id": "esquyABqlhXQ"
      },
      "outputs": [],
      "source": [
        "def sigmoid(x):\n",
        "    return 1 / (1 + np.exp(-x))\n",
        "\n",
        "def softmax(x):\n",
        "    return np.exp(x) / np.sum(np.exp(x), axis=0)\n"
      ]
    },
    {
      "cell_type": "code",
      "execution_count": 4,
      "metadata": {
        "id": "a0DZivU6lhXQ"
      },
      "outputs": [],
      "source": [
        "def forward(params, X):\n",
        "    W1 = params[\"W1\"]\n",
        "    W2 = params[\"W2\"]\n",
        "\n",
        "    # Transpose X to match the dimensions\n",
        "    X = X.T\n",
        "\n",
        "    # Linear transformation for the hidden layer\n",
        "    Z1 = np.dot(W1, X)\n",
        "\n",
        "    # Activation function for the hidden layer (tanh)\n",
        "    A1 = np.tanh(Z1)\n",
        "    m = A1.shape[1]\n",
        "    A1=np.r_[np.ones((1,m)),A1]\n",
        "    # Linear transformation for the output layer\n",
        "    Z2 = np.matmul(W2, A1)\n",
        "\n",
        "    # Softmax activation function for the output layer\n",
        "\n",
        "    Y = softmax(Z2)\n",
        "    # Store intermediate values in cache for backward pass\n",
        "    cache = {\n",
        "        \"Z1\": Z1,\n",
        "        \"A1\": A1,\n",
        "        \"Z2\": Z2,\n",
        "        \"Y\": Y\n",
        "    }\n",
        "\n",
        "    return cache , Y"
      ]
    },
    {
      "cell_type": "markdown",
      "metadata": {
        "id": "aB5MtprOlhXR"
      },
      "source": [
        "# 3- loss_accuracy (Yhat, Y)"
      ]
    },
    {
      "cell_type": "code",
      "execution_count": 5,
      "metadata": {
        "id": "ch76eijclhXR"
      },
      "outputs": [],
      "source": [
        "def loss_accuracy(y, y_hat):\n",
        "   y=y.transpose()\n",
        "   epsilon = 1e-10  # Small constant to avoid log(0)\n",
        "   loss = -np.sum(y * np.log(y_hat)) / y.shape[1]\n",
        "   accuracy = np.mean(np.argmax(y_hat, axis=0) == np.argmax(y, axis=0))\n",
        "\n",
        "   return loss, accuracy"
      ]
    },
    {
      "cell_type": "markdown",
      "metadata": {
        "id": "OQIqwN0VlhXS"
      },
      "source": [
        "# 4- backward (params, outputs, Y)"
      ]
    },
    {
      "cell_type": "code",
      "execution_count": 6,
      "metadata": {
        "id": "uPnb0TKDlhXS"
      },
      "outputs": [],
      "source": [
        "def backward(X, params, outputs, y_hat, y):\n",
        "    W1 = params[\"W1\"]\n",
        "    W2 = params[\"W2\"]\n",
        "    y= y.transpose()\n",
        "    z1=outputs['Z1']\n",
        "\n",
        "    A1 = outputs[\"A1\"]\n",
        "\n",
        "    z2=outputs['Z2']\n",
        "\n",
        "    A2 = outputs[\"Y\"]\n",
        "\n",
        "    #  the error between the predicted output (y_hat) and the true labels (y)\n",
        "    dA2 = y_hat - y\n",
        "\n",
        "    # Gradients of softmax\n",
        "    dZ2 = softmax(z2) * ( 1- softmax(z2))\n",
        "\n",
        "    #he chain rule to calculate the gradients with respect to the weights (dW2) and biases of the output layer.\n",
        "    dW2 = np.dot(dA2 * dZ2, A1.transpose())\n",
        "\n",
        "    # intermediate values\n",
        "    dz2_da1=W2[:,1:]\n",
        "    da1_dZ1 = 1- np.tanh(z1)**2\n",
        "    dz1_dw1 = X\n",
        "    dj_dz2 = dA2 * dZ2\n",
        "\n",
        "    # Gradient of the loss with respect to the hidden layer activations A1\n",
        "    dj_da1 = np.dot(dj_dz2.transpose(),dz2_da1 )\n",
        "    dj_dz1 = dj_da1.transpose() * da1_dZ1\n",
        "    dW1 = np.dot(dj_dz1, dz1_dw1)\n",
        "\n",
        "    # Store gradients in a dictionary\n",
        "    grads = {\n",
        "        \"dW1\": dW1,\n",
        "        \"dW2\": dW2,\n",
        "    }\n",
        "\n",
        "    return grads"
      ]
    },
    {
      "cell_type": "code",
      "execution_count": 7,
      "metadata": {
        "colab": {
          "base_uri": "https://localhost:8080/"
        },
        "id": "6_lakZjMlhXT",
        "outputId": "8659ff45-e153-47ad-d2e8-ae1c2565d15d"
      },
      "outputs": [
        {
          "data": {
            "text/plain": [
              "{'W1': array([[ 0.02804537, -0.03927296,  0.23142325],\n",
              "        [-0.11273155, -0.33696958,  0.6462358 ]]),\n",
              " 'W2': array([[ 0.46105012, -0.28717939, -0.18110963],\n",
              "        [ 0.41843433, -0.52776676, -0.11875707],\n",
              "        [ 0.04088667, -0.02588073,  0.06161582],\n",
              "        [-0.12566142,  0.24557389,  0.19494836]])}"
            ]
          },
          "execution_count": 7,
          "metadata": {},
          "output_type": "execute_result"
        }
      ],
      "source": [
        "params = init_params(2,2,4)\n",
        "params\n"
      ]
    },
    {
      "cell_type": "code",
      "execution_count": 8,
      "metadata": {
        "colab": {
          "base_uri": "https://localhost:8080/"
        },
        "id": "pNp-yrjWlhXW",
        "outputId": "120bd5c7-9f21-426e-b0cd-936d035b20fd"
      },
      "outputs": [
        {
          "data": {
            "text/plain": [
              "(3, 2)"
            ]
          },
          "execution_count": 8,
          "metadata": {},
          "output_type": "execute_result"
        }
      ],
      "source": [
        "X=np.array([[0.5403, -0.4161],[-0.9900,-0.6536],[0.2837,0.9602]])\n",
        "X.shape"
      ]
    },
    {
      "cell_type": "code",
      "execution_count": 9,
      "metadata": {
        "colab": {
          "base_uri": "https://localhost:8080/"
        },
        "id": "79yy4HhzlhXX",
        "outputId": "fff86cf2-a34f-4499-d0f6-e25ecf2a9632"
      },
      "outputs": [
        {
          "data": {
            "text/plain": [
              "array([[ 1.    ,  0.5403, -0.4161],\n",
              "       [ 1.    , -0.99  , -0.6536],\n",
              "       [ 1.    ,  0.2837,  0.9602]])"
            ]
          },
          "execution_count": 9,
          "metadata": {},
          "output_type": "execute_result"
        }
      ],
      "source": [
        "m = X.shape[0]\n",
        "X=np.c_[np.ones((m,1)),X]\n",
        "X"
      ]
    },
    {
      "cell_type": "code",
      "execution_count": 10,
      "metadata": {
        "colab": {
          "base_uri": "https://localhost:8080/"
        },
        "id": "xbriIC0dlhXX",
        "outputId": "85e18006-9c39-4608-ba0c-cfd7373c6428"
      },
      "outputs": [
        {
          "data": {
            "text/plain": [
              "array([[0.33863601, 0.32555614, 0.2919079 ],\n",
              "       [0.32115812, 0.31443052, 0.27088761],\n",
              "       [0.19199766, 0.19936296, 0.2241541 ],\n",
              "       [0.14820821, 0.16065038, 0.21305039]])"
            ]
          },
          "execution_count": 10,
          "metadata": {},
          "output_type": "execute_result"
        }
      ],
      "source": [
        "outputs,y_hat = forward(params,X)\n",
        "y_hat"
      ]
    },
    {
      "cell_type": "code",
      "execution_count": 11,
      "metadata": {
        "colab": {
          "base_uri": "https://localhost:8080/"
        },
        "id": "-9JbDmxPlhXY",
        "outputId": "b65bc120-ff97-40f9-f489-086908befa56"
      },
      "outputs": [
        {
          "name": "stdout",
          "output_type": "stream",
          "text": [
            "Sum of Softmax values: 3.0\n"
          ]
        }
      ],
      "source": [
        "sum_of_softmax = np.sum(y_hat)\n",
        "print(f\"Sum of Softmax values: {sum_of_softmax}\")"
      ]
    },
    {
      "cell_type": "code",
      "execution_count": 12,
      "metadata": {
        "id": "4I_dVbkqlhXY"
      },
      "outputs": [],
      "source": [
        "y=np.array([[0,0,0,1],[0,1,0,0],[0,0,1,0]])"
      ]
    },
    {
      "cell_type": "code",
      "execution_count": 13,
      "metadata": {
        "colab": {
          "base_uri": "https://localhost:8080/"
        },
        "id": "SjVdW6gNlhXZ",
        "outputId": "08098974-b8d8-4959-c68b-6bb7c15fbcf0"
      },
      "outputs": [
        {
          "data": {
            "text/plain": [
              "1.5205169357076855"
            ]
          },
          "execution_count": 13,
          "metadata": {},
          "output_type": "execute_result"
        }
      ],
      "source": [
        "loss,accuracy=loss_accuracy(y, y_hat)\n",
        "loss"
      ]
    },
    {
      "cell_type": "code",
      "execution_count": 14,
      "metadata": {
        "colab": {
          "base_uri": "https://localhost:8080/"
        },
        "id": "JNFR-fVQlhXZ",
        "outputId": "6356d7c1-da93-4eb6-cac7-acd88f3a62c6"
      },
      "outputs": [
        {
          "data": {
            "text/plain": [
              "(2, 3)"
            ]
          },
          "execution_count": 14,
          "metadata": {},
          "output_type": "execute_result"
        }
      ],
      "source": [
        "grads=backward(X,params,outputs, y_hat ,y)\n",
        "grads['dW1'].shape"
      ]
    },
    {
      "cell_type": "markdown",
      "metadata": {
        "id": "A-gj9QfklhXa"
      },
      "source": [
        "# 5- sgd(params, grads, eta)"
      ]
    },
    {
      "cell_type": "code",
      "execution_count": 15,
      "metadata": {
        "id": "Dzefrp3plhXa"
      },
      "outputs": [],
      "source": [
        "def sgd(params, grads, eta):\n",
        "\n",
        "     params['W1']-=eta*grads['dW1']\n",
        "     params['W2']-=eta*grads['dW2']\n",
        "     return params"
      ]
    },
    {
      "cell_type": "code",
      "execution_count": 16,
      "metadata": {
        "colab": {
          "base_uri": "https://localhost:8080/"
        },
        "id": "75WG3haklhXa",
        "outputId": "217c7694-4541-4a0d-c0fb-98d686433981"
      },
      "outputs": [
        {
          "data": {
            "text/plain": [
              "{'W1': array([[ 0.02859706, -0.03811411,  0.23177289],\n",
              "        [-0.11237286, -0.33665774,  0.64632851]]),\n",
              " 'W2': array([[ 0.45897351, -0.28719317, -0.18081568],\n",
              "        [ 0.41867697, -0.52795417, -0.11890215],\n",
              "        [ 0.04161987, -0.02551076,  0.06235787],\n",
              "        [-0.12515992,  0.24541235,  0.19430282]])}"
            ]
          },
          "execution_count": 16,
          "metadata": {},
          "output_type": "execute_result"
        }
      ],
      "source": [
        "sgd(params, grads, eta=0.01)"
      ]
    },
    {
      "cell_type": "markdown",
      "metadata": {
        "id": "k-9yya94lhXb"
      },
      "source": [
        "# 6- Training steps"
      ]
    },
    {
      "cell_type": "code",
      "execution_count": 17,
      "metadata": {
        "colab": {
          "base_uri": "https://localhost:8080/",
          "height": 927
        },
        "id": "trmFt2AclhXb",
        "outputId": "d013b141-fcd7-465e-c2e9-79ce990b1518"
      },
      "outputs": [
        {
          "data": {
            "image/png": "[encoded data removed]",
            "text/plain": [
              "<Figure size 640x480 with 1 Axes>"
            ]
          },
          "metadata": {},
          "output_type": "display_data"
        },
        {
          "data": {
            "image/png": "[encoded data removed]",
            "text/plain": [
              "<Figure size 640x480 with 1 Axes>"
            ]
          },
          "metadata": {},
          "output_type": "display_data"
        }
      ],
      "source": [
        "import numpy as np\n",
        "import matplotlib.pyplot as plt\n",
        "\n",
        "# Network parameters\n",
        "nx = 2\n",
        "nh = 2\n",
        "ny = 4\n",
        "params = init_params(nx, nh, ny)\n",
        "\n",
        "# Hyperparameters\n",
        "num_epochs = 1000\n",
        "eta = 0.01\n",
        "\n",
        "# Training loop\n",
        "loss_history = []\n",
        "accuracy_history = []\n",
        "for i in range(num_epochs):\n",
        "    # Forward pass\n",
        "    cache , y_hat = forward(params, X)\n",
        "\n",
        "    # Compute loss and accuracy\n",
        "    loss,accuracy = loss_accuracy(y, y_hat)\n",
        "\n",
        "    # Save loss and accuracy\n",
        "    loss_history.append(loss)\n",
        "    accuracy_history.append(accuracy)\n",
        "\n",
        "    # Backward pass\n",
        "    grads = backward(X, params, cache, y_hat, y)\n",
        "\n",
        "    # Update parameters\n",
        "    params = sgd(params, grads, eta)\n",
        "\n",
        "# Plot loss and accuracy history\n",
        "plt.plot(loss_history)\n",
        "plt.title(\"Loss history\")\n",
        "plt.xlabel(\"Epoch\")\n",
        "plt.ylabel(\"Loss\")\n",
        "plt.show()\n",
        "\n",
        "plt.plot(accuracy_history)\n",
        "plt.title(\"Accuracy history\")\n",
        "plt.xlabel(\"Epoch\")\n",
        "plt.ylabel(\"Accuracy\")\n",
        "plt.show()"
      ]
    },
    {
      "cell_type": "markdown",
      "metadata": {
        "id": "NCT-aY1WlhXc"
      },
      "source": [
        "# 7- MNIST dataset"
      ]
    },
    {
      "cell_type": "code",
      "execution_count": 18,
      "metadata": {
        "id": "r9U6yF6MlhXc"
      },
      "outputs": [],
      "source": [
        "import tensorflow as tf\n",
        "import tensorflow.keras as keras\n",
        "(x_train, y_train), (x_test, y_test) = tf.keras.datasets.mnist.load_data()\n"
      ]
    },
    {
      "cell_type": "code",
      "execution_count": 19,
      "metadata": {
        "colab": {
          "base_uri": "https://localhost:8080/"
        },
        "id": "1sP2LU2WlhXc",
        "outputId": "9036c714-db7e-480e-b34c-9be8ba0db088"
      },
      "outputs": [
        {
          "name": "stdout",
          "output_type": "stream",
          "text": [
            "X_train: (60000, 28, 28)\n",
            "Y_train: (60000,)\n",
            "X_test:  (10000, 28, 28)\n",
            "Y_test:  (10000,)\n"
          ]
        }
      ],
      "source": [
        "print('X_train: ' + str(x_train.shape))\n",
        "print('Y_train: ' + str(y_train.shape))\n",
        "print('X_test:  '  + str(x_test.shape))\n",
        "print('Y_test:  '  + str(y_test.shape))"
      ]
    },
    {
      "cell_type": "markdown",
      "metadata": {
        "id": "dC1uAOwtpTvN"
      },
      "source": [
        "### Reshaing"
      ]
    },
    {
      "cell_type": "code",
      "execution_count": 20,
      "metadata": {
        "id": "epaTvDsllhXd"
      },
      "outputs": [],
      "source": [
        "x_train=x_train.reshape(x_train.shape[0],x_train.shape[1]*x_train.shape[2])\n",
        "x_test=x_test.reshape(x_test.shape[0],x_test.shape[1]*x_test.shape[2])"
      ]
    },
    {
      "cell_type": "code",
      "execution_count": 21,
      "metadata": {
        "colab": {
          "base_uri": "https://localhost:8080/"
        },
        "id": "p0IFeZhWlhXd",
        "outputId": "21d2113b-0c2f-42f6-8443-dcd0dba98f24"
      },
      "outputs": [
        {
          "name": "stdout",
          "output_type": "stream",
          "text": [
            "x_train: (60000, 784)\n",
            "y_train: (60000,)\n",
            "x_test:  (10000, 784)\n",
            "y_test:  (10000,)\n"
          ]
        }
      ],
      "source": [
        "print('x_train: ' + str(x_train.shape))\n",
        "print('y_train: ' + str(y_train.shape))\n",
        "print('x_test:  '  + str(x_test.shape))\n",
        "print('y_test:  '  + str(y_test.shape))"
      ]
    },
    {
      "cell_type": "markdown",
      "metadata": {
        "id": "MaHIpaGvphvS"
      },
      "source": [
        "# Normalization -->  (X — Xmin)/(Xmax-Xmin) = X/255"
      ]
    },
    {
      "cell_type": "code",
      "execution_count": 22,
      "metadata": {
        "id": "SoQCt5V5lhXe"
      },
      "outputs": [],
      "source": [
        "x_train=x_train/255\n",
        "x_test=x_test/255"
      ]
    },
    {
      "cell_type": "markdown",
      "metadata": {
        "id": "yNmeF8ZvprC5"
      },
      "source": [
        "# Labeling  (one hot encoding)"
      ]
    },
    {
      "cell_type": "code",
      "execution_count": 23,
      "metadata": {
        "colab": {
          "base_uri": "https://localhost:8080/"
        },
        "id": "Q6I3nLoGlhXe",
        "outputId": "8f7146e6-84e0-4fff-ef03-22f7677adf4c"
      },
      "outputs": [
        {
          "name": "stdout",
          "output_type": "stream",
          "text": [
            "class label for first image 5\n",
            "class label for first image after labeling [0. 0. 0. 0. 0. 1. 0. 0. 0. 0.]\n"
          ]
        }
      ],
      "source": [
        "from keras.utils import to_categorical\n",
        "print(\"class label for first image\",y_train[0])\n",
        "y_train=tf.keras.utils.to_categorical(y_train,10)\n",
        "#y_test=tf.keras.utils.to_categorical(y_test,10)\n",
        "print(\"class label for first image after labeling\",y_train[0])"
      ]
    },
    {
      "cell_type": "code",
      "execution_count": 24,
      "metadata": {
        "colab": {
          "base_uri": "https://localhost:8080/"
        },
        "id": "KuH1U704lhXe",
        "outputId": "14fd5dde-1ec6-4ff9-a924-a6a8cb1caf7c"
      },
      "outputs": [
        {
          "data": {
            "text/plain": [
              "(60000, 10)"
            ]
          },
          "execution_count": 24,
          "metadata": {},
          "output_type": "execute_result"
        }
      ],
      "source": [
        "y_train.shape"
      ]
    },
    {
      "cell_type": "code",
      "execution_count": 25,
      "metadata": {
        "id": "-H9RRohglhXf"
      },
      "outputs": [],
      "source": [
        "nx = x_train.shape[1]\n",
        "nh = 32\n",
        "ny = y_train.shape[1]"
      ]
    },
    {
      "cell_type": "code",
      "execution_count": 26,
      "metadata": {
        "colab": {
          "base_uri": "https://localhost:8080/"
        },
        "id": "7Ck6_k1nlhXf",
        "outputId": "89ffa9fd-5668-4cf4-8e04-e87649fd4a54"
      },
      "outputs": [
        {
          "data": {
            "text/plain": [
              "(32, 785)"
            ]
          },
          "execution_count": 26,
          "metadata": {},
          "output_type": "execute_result"
        }
      ],
      "source": [
        "params=init_params(nx,nh,ny)\n",
        "params['W1'].shape"
      ]
    },
    {
      "cell_type": "markdown",
      "metadata": {
        "id": "FKIaSbvsqBN5"
      },
      "source": [
        "# adding the bias term for x_train and x_test"
      ]
    },
    {
      "cell_type": "code",
      "execution_count": 27,
      "metadata": {
        "colab": {
          "base_uri": "https://localhost:8080/"
        },
        "id": "3bWkKs1JqEQW",
        "outputId": "646e5530-7558-4b03-fb27-9ccf4496277d"
      },
      "outputs": [
        {
          "data": {
            "text/plain": [
              "array([[1., 0., 0., ..., 0., 0., 0.],\n",
              "       [1., 0., 0., ..., 0., 0., 0.],\n",
              "       [1., 0., 0., ..., 0., 0., 0.],\n",
              "       ...,\n",
              "       [1., 0., 0., ..., 0., 0., 0.],\n",
              "       [1., 0., 0., ..., 0., 0., 0.],\n",
              "       [1., 0., 0., ..., 0., 0., 0.]])"
            ]
          },
          "execution_count": 27,
          "metadata": {},
          "output_type": "execute_result"
        }
      ],
      "source": [
        "m = x_train.shape[0]\n",
        "x_train=np.c_[np.ones((m,1)),x_train]\n",
        "x_train"
      ]
    },
    {
      "cell_type": "code",
      "execution_count": 28,
      "metadata": {
        "id": "FldZ4Cd6lhXf"
      },
      "outputs": [],
      "source": [
        "import matplotlib.pyplot as plt\n",
        "def create_mini_batches(X, y, params, batch_size=128, epochs=20, eta=0.01):\n",
        "    loss_history = []\n",
        "    accuracy_history = []\n",
        "\n",
        "    for epoch in range(epochs):\n",
        "        total_loss = 0\n",
        "        correct_predictions = 0\n",
        "        #random data\n",
        "        shuffle_indices = np.random.permutation(len(X))\n",
        "        X= X[shuffle_indices]\n",
        "        y = y[shuffle_indices]\n",
        "\n",
        "\n",
        "        for i in range(0, len(X), batch_size):\n",
        "            #Load a batch of data\n",
        "            x_batch = X[i:i + batch_size]\n",
        "            y_batch = y[i:i + batch_size]\n",
        "\n",
        "            #compute the model's predictions (y_hat) and intermediate values (outputs) for the current batch.\n",
        "            outputs, y_hat = forward(params, x_batch)\n",
        "\n",
        "            # compute the model's predictions (y_hat) and intermediate values (outputs) for the current batch.\n",
        "            grads = backward(x_batch, params, outputs, y_hat, y_batch)\n",
        "\n",
        "            # update the model parameters\n",
        "            params = sgd(params, grads, eta)\n",
        "\n",
        "            # Calculates the loss and accuracy for the current mini-batch\n",
        "            batch_loss, batch_accuracy = loss_accuracy(y_batch, y_hat)\n",
        "\n",
        "            # Adds the batch loss and number of correct predictions to the respective running totals\n",
        "            total_loss += batch_loss\n",
        "            correct_predictions += batch_accuracy * len(y_batch)\n",
        "\n",
        "        average_loss = total_loss / (len(X) // batch_size)\n",
        "        accuracy = correct_predictions / len(X)\n",
        "\n",
        "        loss_history.append(average_loss)\n",
        "        accuracy_history.append(accuracy)\n",
        "\n",
        "        print(f\"Epoch {epoch + 1}/{epochs} - Loss: {average_loss:.4f} - Accuracy: {accuracy:.4f}\")\n",
        "\n",
        "    plt.figure(figsize=(12, 4))\n",
        "\n",
        "    plt.subplot(1, 2, 1)\n",
        "    plt.plot(loss_history, label=' Loss')\n",
        "    plt.title(' Loss')\n",
        "    plt.xlabel('Epochs')\n",
        "    plt.ylabel('Loss')\n",
        "    plt.legend()\n",
        "\n",
        "    plt.subplot(1, 2, 2)\n",
        "    plt.plot(accuracy_history, label=' Accuracy')\n",
        "    plt.title(' Accuracy')\n",
        "    plt.xlabel('Epochs')\n",
        "    plt.ylabel('Accuracy')\n",
        "    plt.legend()\n",
        "\n",
        "    plt.show()\n"
      ]
    },
    {
      "cell_type": "code",
      "execution_count": 29,
      "metadata": {
        "colab": {
          "base_uri": "https://localhost:8080/",
          "height": 1000
        },
        "id": "04LD0HX-lhXg",
        "outputId": "82fe5ff3-203e-448a-c27b-49308ae34025"
      },
      "outputs": [
        {
          "name": "stdout",
          "output_type": "stream",
          "text": [
            "Epoch 1/50 - Loss: 0.7453 - Accuracy: 0.7793\n",
            "Epoch 2/50 - Loss: 0.3727 - Accuracy: 0.8959\n",
            "Epoch 3/50 - Loss: 0.3178 - Accuracy: 0.9133\n",
            "Epoch 4/50 - Loss: 0.2874 - Accuracy: 0.9232\n",
            "Epoch 5/50 - Loss: 0.2644 - Accuracy: 0.9299\n",
            "Epoch 6/50 - Loss: 0.2469 - Accuracy: 0.9354\n",
            "Epoch 7/50 - Loss: 0.2333 - Accuracy: 0.9395\n",
            "Epoch 8/50 - Loss: 0.2221 - Accuracy: 0.9429\n",
            "Epoch 9/50 - Loss: 0.2126 - Accuracy: 0.9467\n",
            "Epoch 10/50 - Loss: 0.2046 - Accuracy: 0.9485\n",
            "Epoch 11/50 - Loss: 0.1971 - Accuracy: 0.9513\n",
            "Epoch 12/50 - Loss: 0.1913 - Accuracy: 0.9525\n",
            "Epoch 13/50 - Loss: 0.1850 - Accuracy: 0.9546\n",
            "Epoch 14/50 - Loss: 0.1799 - Accuracy: 0.9562\n",
            "Epoch 15/50 - Loss: 0.1751 - Accuracy: 0.9573\n",
            "Epoch 16/50 - Loss: 0.1709 - Accuracy: 0.9593\n",
            "Epoch 17/50 - Loss: 0.1667 - Accuracy: 0.9603\n",
            "Epoch 18/50 - Loss: 0.1624 - Accuracy: 0.9621\n",
            "Epoch 19/50 - Loss: 0.1590 - Accuracy: 0.9637\n",
            "Epoch 20/50 - Loss: 0.1551 - Accuracy: 0.9641\n",
            "Epoch 21/50 - Loss: 0.1521 - Accuracy: 0.9654\n",
            "Epoch 22/50 - Loss: 0.1495 - Accuracy: 0.9661\n",
            "Epoch 23/50 - Loss: 0.1469 - Accuracy: 0.9667\n",
            "Epoch 24/50 - Loss: 0.1441 - Accuracy: 0.9677\n",
            "Epoch 25/50 - Loss: 0.1415 - Accuracy: 0.9683\n",
            "Epoch 26/50 - Loss: 0.1395 - Accuracy: 0.9700\n",
            "Epoch 27/50 - Loss: 0.1372 - Accuracy: 0.9700\n",
            "Epoch 28/50 - Loss: 0.1345 - Accuracy: 0.9710\n",
            "Epoch 29/50 - Loss: 0.1331 - Accuracy: 0.9715\n",
            "Epoch 30/50 - Loss: 0.1307 - Accuracy: 0.9719\n",
            "Epoch 31/50 - Loss: 0.1289 - Accuracy: 0.9729\n",
            "Epoch 32/50 - Loss: 0.1268 - Accuracy: 0.9731\n",
            "Epoch 33/50 - Loss: 0.1253 - Accuracy: 0.9737\n",
            "Epoch 34/50 - Loss: 0.1237 - Accuracy: 0.9746\n",
            "Epoch 35/50 - Loss: 0.1221 - Accuracy: 0.9751\n",
            "Epoch 36/50 - Loss: 0.1202 - Accuracy: 0.9751\n",
            "Epoch 37/50 - Loss: 0.1189 - Accuracy: 0.9762\n",
            "Epoch 38/50 - Loss: 0.1172 - Accuracy: 0.9768\n",
            "Epoch 39/50 - Loss: 0.1162 - Accuracy: 0.9767\n",
            "Epoch 40/50 - Loss: 0.1148 - Accuracy: 0.9770\n",
            "Epoch 41/50 - Loss: 0.1132 - Accuracy: 0.9777\n",
            "Epoch 42/50 - Loss: 0.1122 - Accuracy: 0.9784\n",
            "Epoch 43/50 - Loss: 0.1107 - Accuracy: 0.9779\n",
            "Epoch 44/50 - Loss: 0.1097 - Accuracy: 0.9785\n",
            "Epoch 45/50 - Loss: 0.1087 - Accuracy: 0.9794\n",
            "Epoch 46/50 - Loss: 0.1072 - Accuracy: 0.9796\n",
            "Epoch 47/50 - Loss: 0.1059 - Accuracy: 0.9797\n",
            "Epoch 48/50 - Loss: 0.1051 - Accuracy: 0.9802\n",
            "Epoch 49/50 - Loss: 0.1040 - Accuracy: 0.9806\n",
            "Epoch 50/50 - Loss: 0.1032 - Accuracy: 0.9809\n"
          ]
        },
        {
          "data": {
            "image/png": "[encoded data removed]",
            "text/plain": [
              "<Figure size 1200x400 with 2 Axes>"
            ]
          },
          "metadata": {},
          "output_type": "display_data"
        }
      ],
      "source": [
        "create_mini_batches(x_train,y_train,params,batch_size=128,epochs=50,eta=0.01)"
      ]
    },
    {
      "cell_type": "markdown",
      "metadata": {
        "id": "y-qCBQ0Mqhdc"
      },
      "source": [
        "# Trying on the test data"
      ]
    },
    {
      "cell_type": "code",
      "execution_count": 30,
      "metadata": {
        "id": "bGjfHAtzlhXh"
      },
      "outputs": [],
      "source": [
        "y_test_2= y_test\n",
        "y_test=tf.keras.utils.to_categorical(y_test,10)"
      ]
    },
    {
      "cell_type": "code",
      "execution_count": 31,
      "metadata": {
        "id": "vFScl_qdoB1b"
      },
      "outputs": [],
      "source": [
        "nx_test = x_test.shape[1]\n",
        "nh_test = 32\n",
        "ny_test = y_test.shape[1]"
      ]
    },
    {
      "cell_type": "code",
      "execution_count": 32,
      "metadata": {
        "id": "LMuywTl2qtF5"
      },
      "outputs": [],
      "source": [
        "params=init_params(nx_test,nh_test,ny_test)"
      ]
    },
    {
      "cell_type": "code",
      "execution_count": 33,
      "metadata": {
        "colab": {
          "base_uri": "https://localhost:8080/"
        },
        "id": "s_DGuKWFqwna",
        "outputId": "70839fbd-bf9e-442c-fb96-8a8bfdfc774b"
      },
      "outputs": [
        {
          "data": {
            "text/plain": [
              "array([[1., 0., 0., ..., 0., 0., 0.],\n",
              "       [1., 0., 0., ..., 0., 0., 0.],\n",
              "       [1., 0., 0., ..., 0., 0., 0.],\n",
              "       ...,\n",
              "       [1., 0., 0., ..., 0., 0., 0.],\n",
              "       [1., 0., 0., ..., 0., 0., 0.],\n",
              "       [1., 0., 0., ..., 0., 0., 0.]])"
            ]
          },
          "execution_count": 33,
          "metadata": {},
          "output_type": "execute_result"
        }
      ],
      "source": [
        "m = x_test.shape[0]\n",
        "x_test=np.c_[np.ones((m,1)),x_test]\n",
        "x_test"
      ]
    },
    {
      "cell_type": "code",
      "execution_count": 34,
      "metadata": {
        "colab": {
          "base_uri": "https://localhost:8080/",
          "height": 1000
        },
        "id": "anTZCUGOq3c6",
        "outputId": "c4e839e0-d15c-49ab-a570-acce50b853c5"
      },
      "outputs": [
        {
          "name": "stdout",
          "output_type": "stream",
          "text": [
            "Epoch 1/50 - Loss: 1.5259 - Accuracy: 0.5300\n",
            "Epoch 2/50 - Loss: 0.7296 - Accuracy: 0.7874\n",
            "Epoch 3/50 - Loss: 0.5386 - Accuracy: 0.8501\n",
            "Epoch 4/50 - Loss: 0.4595 - Accuracy: 0.8742\n",
            "Epoch 5/50 - Loss: 0.4096 - Accuracy: 0.8920\n",
            "Epoch 6/50 - Loss: 0.3743 - Accuracy: 0.9027\n",
            "Epoch 7/50 - Loss: 0.3495 - Accuracy: 0.9091\n",
            "Epoch 8/50 - Loss: 0.3285 - Accuracy: 0.9171\n",
            "Epoch 9/50 - Loss: 0.3114 - Accuracy: 0.9221\n",
            "Epoch 10/50 - Loss: 0.2976 - Accuracy: 0.9280\n",
            "Epoch 11/50 - Loss: 0.2881 - Accuracy: 0.9312\n",
            "Epoch 12/50 - Loss: 0.2755 - Accuracy: 0.9346\n",
            "Epoch 13/50 - Loss: 0.2725 - Accuracy: 0.9384\n",
            "Epoch 14/50 - Loss: 0.2596 - Accuracy: 0.9401\n",
            "Epoch 15/50 - Loss: 0.2507 - Accuracy: 0.9443\n",
            "Epoch 16/50 - Loss: 0.2467 - Accuracy: 0.9461\n",
            "Epoch 17/50 - Loss: 0.2401 - Accuracy: 0.9497\n",
            "Epoch 18/50 - Loss: 0.2330 - Accuracy: 0.9508\n",
            "Epoch 19/50 - Loss: 0.2276 - Accuracy: 0.9529\n",
            "Epoch 20/50 - Loss: 0.2183 - Accuracy: 0.9537\n",
            "Epoch 21/50 - Loss: 0.2128 - Accuracy: 0.9561\n",
            "Epoch 22/50 - Loss: 0.2073 - Accuracy: 0.9580\n",
            "Epoch 23/50 - Loss: 0.2025 - Accuracy: 0.9593\n",
            "Epoch 24/50 - Loss: 0.1972 - Accuracy: 0.9615\n",
            "Epoch 25/50 - Loss: 0.1921 - Accuracy: 0.9628\n",
            "Epoch 26/50 - Loss: 0.1885 - Accuracy: 0.9642\n",
            "Epoch 27/50 - Loss: 0.1852 - Accuracy: 0.9658\n",
            "Epoch 28/50 - Loss: 0.1808 - Accuracy: 0.9668\n",
            "Epoch 29/50 - Loss: 0.1777 - Accuracy: 0.9673\n",
            "Epoch 30/50 - Loss: 0.1738 - Accuracy: 0.9703\n",
            "Epoch 31/50 - Loss: 0.1747 - Accuracy: 0.9697\n",
            "Epoch 32/50 - Loss: 0.1682 - Accuracy: 0.9713\n",
            "Epoch 33/50 - Loss: 0.1652 - Accuracy: 0.9729\n",
            "Epoch 34/50 - Loss: 0.1649 - Accuracy: 0.9730\n",
            "Epoch 35/50 - Loss: 0.1578 - Accuracy: 0.9743\n",
            "Epoch 36/50 - Loss: 0.1591 - Accuracy: 0.9749\n",
            "Epoch 37/50 - Loss: 0.1529 - Accuracy: 0.9758\n",
            "Epoch 38/50 - Loss: 0.1539 - Accuracy: 0.9768\n",
            "Epoch 39/50 - Loss: 0.1483 - Accuracy: 0.9778\n",
            "Epoch 40/50 - Loss: 0.1461 - Accuracy: 0.9783\n",
            "Epoch 41/50 - Loss: 0.1502 - Accuracy: 0.9781\n",
            "Epoch 42/50 - Loss: 0.1422 - Accuracy: 0.9788\n",
            "Epoch 43/50 - Loss: 0.1394 - Accuracy: 0.9794\n",
            "Epoch 44/50 - Loss: 0.1379 - Accuracy: 0.9798\n",
            "Epoch 45/50 - Loss: 0.1356 - Accuracy: 0.9799\n",
            "Epoch 46/50 - Loss: 0.1338 - Accuracy: 0.9808\n",
            "Epoch 47/50 - Loss: 0.1319 - Accuracy: 0.9818\n",
            "Epoch 48/50 - Loss: 0.1297 - Accuracy: 0.9818\n",
            "Epoch 49/50 - Loss: 0.1283 - Accuracy: 0.9825\n",
            "Epoch 50/50 - Loss: 0.1266 - Accuracy: 0.9825\n"
          ]
        },
        {
          "data": {
            "image/png": "[encoded data removed]",
            "text/plain": [
              "<Figure size 1200x400 with 2 Axes>"
            ]
          },
          "metadata": {},
          "output_type": "display_data"
        }
      ],
      "source": [
        "create_mini_batches(x_test,y_test,params,batch_size=128,epochs=50,eta=0.01)"
      ]
    },
    {
      "cell_type": "code",
      "execution_count": 35,
      "metadata": {
        "id": "a-UbJ-jc1L-k"
      },
      "outputs": [],
      "source": [
        "import tensorflow as tf\n",
        "import matplotlib.pyplot as plt\n",
        "\n",
        "x_train = x_train.astype('float32') / 255  # Normalize pixel values\n",
        "x_test = x_test.astype('float32') / 255\n",
        "\n",
        "# One-hot encode labels\n",
        "y_train = tf.keras.utils.to_categorical(y_train, 10)"
      ]
    },
    {
      "cell_type": "code",
      "execution_count": 36,
      "metadata": {
        "id": "eBlG-0ebDVpe"
      },
      "outputs": [],
      "source": [
        "# Load MNIST dataset\n",
        "(x_train, y_train), (x_test, y_test) = tf.keras.datasets.mnist.load_data()\n",
        "\n",
        "# Preprocess data\n",
        "x_train = x_train.reshape(-1, 28, 28)  # Keep images as 2D matrices\n",
        "x_test = x_test.reshape(-1, 28, 28)"
      ]
    },
    {
      "cell_type": "code",
      "execution_count": 37,
      "metadata": {
        "id": "ya2euva_Daj_"
      },
      "outputs": [],
      "source": [
        "def make_predictions(params, X):\n",
        "\n",
        "    _, A3 = forward(params, X) # Get class predictions from A3\n",
        "\n",
        "    predictions = get_predictions(A3)  # Get class predictions from A3\n",
        "\n",
        "    return predictions"
      ]
    },
    {
      "cell_type": "code",
      "execution_count": 38,
      "metadata": {
        "id": "XTnRe8MHDf3x"
      },
      "outputs": [],
      "source": [
        "def get_predictions(A3):\n",
        "\n",
        "  # Find the index of the maximum value in each row\n",
        "  predictions = np.argmax(A3, 0)\n",
        "\n",
        "  return predictions"
      ]
    },
    {
      "cell_type": "code",
      "execution_count": 39,
      "metadata": {
        "id": "WwpIEBflDlL-"
      },
      "outputs": [],
      "source": [
        "# Test predictions\n",
        "def test_prediction(params, index):\n",
        "    \"\"\"Tests the model on a specific image from the test set.\n",
        "\n",
        "    Args:\n",
        "        params (dict): Model parameters.\n",
        "        index (int): Index of the image to test in the test set.\n",
        "\n",
        "    Returns:\n",
        "        None\n",
        "    \"\"\"\n",
        "\n",
        "    # Reshape to a 2D array with a bias term (correct approach for your model)\n",
        "    current_image = x_test[index].reshape(-1, 1)\n",
        "    current_image = np.concatenate([current_image, np.ones((1, 1))], axis=0)  # Concatenate along axis 0\n",
        "\n",
        "\n",
        "    prediction = make_predictions(params, current_image.T)  # Transpose after verification\n",
        "    label = y_test[index]\n",
        "\n",
        "    print(f\"Prediction: {prediction}\")\n",
        "    print(f\"Label: {label}\")\n",
        "\n",
        "    plt.gray()\n",
        "    plt.imshow(current_image[:-1].reshape(28, 28), interpolation='nearest')  # Exclude bias term for visualization\n",
        "    plt.show()"
      ]
    },
    {
      "cell_type": "code",
      "execution_count": 40,
      "metadata": {
        "colab": {
          "base_uri": "https://localhost:8080/",
          "height": 1000
        },
        "id": "2irQ5G4-1NJC",
        "outputId": "a7817e38-ba72-43d9-9ac9-532e42fe091c"
      },
      "outputs": [
        {
          "name": "stdout",
          "output_type": "stream",
          "text": [
            "Prediction: [7]\n",
            "Label: 7\n"
          ]
        },
        {
          "data": {
            "image/png": "[encoded data removed]",
            "text/plain": [
              "<Figure size 640x480 with 1 Axes>"
            ]
          },
          "metadata": {},
          "output_type": "display_data"
        },
        {
          "name": "stdout",
          "output_type": "stream",
          "text": [
            "Prediction: [2]\n",
            "Label: 2\n"
          ]
        },
        {
          "data": {
            "image/png": "[encoded data removed]",
            "text/plain": [
              "<Figure size 640x480 with 1 Axes>"
            ]
          },
          "metadata": {},
          "output_type": "display_data"
        },
        {
          "name": "stdout",
          "output_type": "stream",
          "text": [
            "Prediction: [1]\n",
            "Label: 1\n"
          ]
        },
        {
          "data": {
            "image/png": "[encoded data removed]",
            "text/plain": [
              "<Figure size 640x480 with 1 Axes>"
            ]
          },
          "metadata": {},
          "output_type": "display_data"
        },
        {
          "name": "stdout",
          "output_type": "stream",
          "text": [
            "Prediction: [7]\n",
            "Label: 0\n"
          ]
        },
        {
          "data": {
            "image/png": "[encoded data removed]",
            "text/plain": [
              "<Figure size 640x480 with 1 Axes>"
            ]
          },
          "metadata": {},
          "output_type": "display_data"
        },
        {
          "name": "stdout",
          "output_type": "stream",
          "text": [
            "Prediction: [4]\n",
            "Label: 4\n"
          ]
        },
        {
          "data": {
            "image/png": "[encoded data removed]",
            "text/plain": [
              "<Figure size 640x480 with 1 Axes>"
            ]
          },
          "metadata": {},
          "output_type": "display_data"
        }
      ],
      "source": [
        "for i in [0,1,2,3,4]:\n",
        "    test_prediction(params,i)"
      ]
    }
  ],
  "metadata": {
    "accelerator": "GPU",
    "colab": {
      "gpuType": "T4",
      "provenance": []
    },
    "kernelspec": {
      "display_name": "Python 3",
      "name": "python3"
    },
    "language_info": {
      "codemirror_mode": {
        "name": "ipython",
        "version": 3
      },
      "file_extension": ".py",
      "mimetype": "text/x-python",
      "name": "python",
      "nbconvert_exporter": "python",
      "pygments_lexer": "ipython3",
      "version": "3.12.2"
    },
    "orig_nbformat": 4
  },
  "nbformat": 4,
  "nbformat_minor": 0
}
