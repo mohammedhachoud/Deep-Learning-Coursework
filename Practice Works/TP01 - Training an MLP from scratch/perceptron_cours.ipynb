{
 "cells": [
  {
   "attachments": {},
   "cell_type": "markdown",
   "metadata": {},
   "source": [
    "## Perceptron "
   ]
  },
  {
   "cell_type": "code",
   "execution_count": 1,
   "metadata": {},
   "outputs": [
    {
     "name": "stdout",
     "output_type": "stream",
     "text": [
      "(array([-0.2, -0.1,  0. ]), 0.5)\n"
     ]
    }
   ],
   "source": [
    "import numpy as np\n",
    "\n",
    "\n",
    "def perceptron (xi, yi, learning_rate):\n",
    "    # xi, yi array\n",
    "    weights = np.zeros(xi.shape[1]) \n",
    "    b = 0.5\n",
    "    for i in range(xi.shape[0]):\n",
    "        activation = np.dot(weights, xi[i]) + b\n",
    "        if activation >= 0:\n",
    "            prediction = 1\n",
    "        else:\n",
    "            prediction = 0\n",
    "        error = yi[i] - prediction\n",
    "        weights += learning_rate * error * xi[i]\n",
    "        b +=  learning_rate * error\n",
    "    return weights , b\n",
    "\n",
    "learning_rate = 0.1\n",
    "\n",
    "X_train = np.array([[3, 2 , 1], [1, 1, 1], [1, 2, 3]])\n",
    "y_train = np.array([0, 1, 1])\n",
    "\n",
    "updated_weights = perceptron(X_train, y_train, learning_rate)\n",
    "print(updated_weights)"
   ]
  },
  {
   "cell_type": "code",
   "execution_count": 11,
   "metadata": {},
   "outputs": [
    {
     "name": "stdout",
     "output_type": "stream",
     "text": [
      "3\n"
     ]
    }
   ],
   "source": [
    "import pandas as pd\n",
    "\n",
    "x_train = np.random.rand(10,3)\n",
    "print(x_train.shape[1])\n",
    "y_train = np.random.rand(10,1)"
   ]
  },
  {
   "cell_type": "code",
   "execution_count": 5,
   "metadata": {},
   "outputs": [
    {
     "name": "stdout",
     "output_type": "stream",
     "text": [
      "[-0.14308055 -0.027553    0.08797455] [0.44568741]\n"
     ]
    }
   ],
   "source": [
    "updated_weights_2, b2 = perceptron(X_train, y_train, learning_rate)\n",
    "print(updated_weights_2, b2)"
   ]
  },
  {
   "cell_type": "code",
   "execution_count": 8,
   "metadata": {},
   "outputs": [
    {
     "data": {
      "image/png": "[encoded data removed]",
      "text/plain": [
       "<Figure size 640x480 with 1 Axes>"
      ]
     },
     "metadata": {},
     "output_type": "display_data"
    }
   ],
   "source": [
    "import matplotlib.pyplot as plt\n",
    "def plot_dataset(X, y, weights, bias):\n",
    "    plt.scatter(X[:, 0], X[:, 1], c=y)\n",
    "    plt.xlabel('X1')\n",
    "    plt.ylabel('X2')\n",
    "\n",
    "    if weights is not None:\n",
    "        x_plot = np.linspace(np.min(X[:, 0]), np.max(X[:, 0]), 100)\n",
    "        y_plot = -(weights[0] * x_plot + bias) / weights[1]\n",
    "        plt.plot(x_plot, y_plot, 'r--', label='Decision Boundary')\n",
    "\n",
    "    plt.legend()\n",
    "    plt.show()\n",
    "\n",
    "plot_dataset(x_train, y_train, updated_weights_2, b2)"
   ]
  },
  {
   "cell_type": "code",
   "execution_count": null,
   "metadata": {},
   "outputs": [],
   "source": []
  },
  {
   "cell_type": "markdown",
   "metadata": {},
   "source": []
  }
 ],
 "metadata": {
  "kernelspec": {
   "display_name": "Python 3",
   "language": "python",
   "name": "python3"
  },
  "language_info": {
   "codemirror_mode": {
    "name": "ipython",
    "version": 3
   },
   "file_extension": ".py",
   "mimetype": "text/x-python",
   "name": "python",
   "nbconvert_exporter": "python",
   "pygments_lexer": "ipython3",
   "version": "3.12.2"
  },
  "orig_nbformat": 4
 },
 "nbformat": 4,
 "nbformat_minor": 2
}
