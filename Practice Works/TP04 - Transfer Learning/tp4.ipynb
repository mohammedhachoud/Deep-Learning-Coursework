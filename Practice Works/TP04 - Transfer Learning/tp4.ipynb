{
 "cells": [
  {
   "cell_type": "markdown",
   "metadata": {},
   "source": [
    "# Fiche TP4 : Transfer Learning."
   ]
  },
  {
   "cell_type": "markdown",
   "metadata": {},
   "source": [
    "## 1- Load the Chest X-rays dataset"
   ]
  },
  {
   "cell_type": "code",
   "execution_count": 1,
   "metadata": {},
   "outputs": [
    {
     "name": "stdout",
     "output_type": "stream",
     "text": [
      "WARNING:tensorflow:From c:\\ProgramData\\anaconda3\\Lib\\site-packages\\keras\\src\\losses.py:2976: The name tf.losses.sparse_softmax_cross_entropy is deprecated. Please use tf.compat.v1.losses.sparse_softmax_cross_entropy instead.\n",
      "\n"
     ]
    }
   ],
   "source": [
    "import numpy as np\n",
    "import pandas as pd\n",
    "from keras.applications import MobileNetV2\n",
    "from keras.layers import Dense, GlobalAveragePooling2D\n",
    "from keras.models import Model\n",
    "from keras.optimizers import Adam\n",
    "from keras.preprocessing.image import ImageDataGenerator\n",
    "from sklearn.model_selection import train_test_split\n",
    "from sklearn.metrics import classification_report, confusion_matrix"
   ]
  },
  {
   "cell_type": "code",
   "execution_count": 2,
   "metadata": {},
   "outputs": [],
   "source": [
    "import os\n",
    "import json\n",
    "\n",
    "folder_paths = ['COVID','Lung_Opacity','Normal','Viral Pneumonia']\n",
    "\n",
    "image_names_dict = {}\n",
    "for path in folder_paths:\n",
    "    full_path = f\"COVID-19_Radiography_Dataset/{path}\"\n",
    "    image_names = os.listdir(full_path)\n",
    "    image_names_dict[path] = image_names\n",
    " \n",
    "# print(image_names_dict)\n",
    "\n",
    "with open(\"train_image_names.json\",\"w\") as jsonf:\n",
    "    json.dump(image_names_dict, jsonf)"
   ]
  },
  {
   "cell_type": "code",
   "execution_count": 4,
   "metadata": {},
   "outputs": [
    {
     "name": "stdout",
     "output_type": "stream",
     "text": [
      "['images', 'masks', 'images', 'masks', 'images', 'masks', 'images', 'masks']\n"
     ]
    }
   ],
   "source": [
    "import os\n",
    "import json\n",
    "\n",
    "# Define the path to the dataset folder\n",
    "dataset_folder = \"COVID-19_Radiography_Dataset\"\n",
    "\n",
    "# Load the JSON file containing the image names\n",
    "json_file_path = os.path.join(dataset_folder, \"train_image_names.json\")\n",
    "with open(json_file_path, \"r\") as json_file:\n",
    "    image_names_dict = json.load(json_file)\n",
    "\n",
    "# Extract the image names for each category\n",
    "image_names = image_names_dict[\"COVID\"] + image_names_dict[\"Lung_Opacity\"] + image_names_dict[\"Normal\"] + image_names_dict[\"Viral Pneumonia\"]\n",
    "\n",
    "# Print the first 10 image names\n",
    "print(image_names[:10])\n"
   ]
  },
  {
   "cell_type": "code",
   "execution_count": 5,
   "metadata": {},
   "outputs": [],
   "source": [
    "image_files = [file for file in os.listdir(dataset_folder) if file.endswith(\".png\")]\n",
    "\n",
    "# Create an empty DataFrame to store the dataset\n",
    "dataset = pd.DataFrame(columns=[\"filename\", \"label\"])\n",
    "\n",
    "# Iterate over the image files and add them to the DataFrame\n",
    "for file in image_files:\n",
    "    label = file.split(\"-\")[0]  # Extract the label from the filename\n",
    "    dataset = dataset.append({\"filename\": file, \"label\": label}, ignore_index=True)"
   ]
  },
  {
   "cell_type": "code",
   "execution_count": 6,
   "metadata": {},
   "outputs": [
    {
     "data": {
      "text/html": [
       "<div>\n",
       "<style scoped>\n",
       "    .dataframe tbody tr th:only-of-type {\n",
       "        vertical-align: middle;\n",
       "    }\n",
       "\n",
       "    .dataframe tbody tr th {\n",
       "        vertical-align: top;\n",
       "    }\n",
       "\n",
       "    .dataframe thead th {\n",
       "        text-align: right;\n",
       "    }\n",
       "</style>\n",
       "<table border=\"1\" class=\"dataframe\">\n",
       "  <thead>\n",
       "    <tr style=\"text-align: right;\">\n",
       "      <th></th>\n",
       "      <th>filename</th>\n",
       "      <th>label</th>\n",
       "    </tr>\n",
       "  </thead>\n",
       "  <tbody>\n",
       "  </tbody>\n",
       "</table>\n",
       "</div>"
      ],
      "text/plain": [
       "Empty DataFrame\n",
       "Columns: [filename, label]\n",
       "Index: []"
      ]
     },
     "execution_count": 6,
     "metadata": {},
     "output_type": "execute_result"
    }
   ],
   "source": [
    "dataset.head()"
   ]
  },
  {
   "cell_type": "code",
   "execution_count": null,
   "metadata": {},
   "outputs": [],
   "source": [
    "history = [history_3, history_4, history_5 ]\n",
    "i = 1\n",
    "for his in history:\n",
    "    print(f'Model_{i}')\n",
    "    plot_training(his)\n",
    "    i+=1"
   ]
  },
  {
   "cell_type": "code",
   "execution_count": null,
   "metadata": {},
   "outputs": [],
   "source": []
  }
 ],
 "metadata": {
  "kernelspec": {
   "display_name": "base",
   "language": "python",
   "name": "python3"
  },
  "language_info": {
   "codemirror_mode": {
    "name": "ipython",
    "version": 3
   },
   "file_extension": ".py",
   "mimetype": "text/x-python",
   "name": "python",
   "nbconvert_exporter": "python",
   "pygments_lexer": "ipython3",
   "version": "3.11.5"
  }
 },
 "nbformat": 4,
 "nbformat_minor": 2
}
